{
  "nbformat": 4,
  "nbformat_minor": 0,
  "metadata": {
    "colab": {
      "provenance": [],
      "authorship_tag": "ABX9TyPIRgk22rgSXatGMD5V+PvD",
      "include_colab_link": true
    },
    "kernelspec": {
      "name": "python3",
      "display_name": "Python 3"
    },
    "language_info": {
      "name": "python"
    }
  },
  "cells": [
    {
      "cell_type": "markdown",
      "metadata": {
        "id": "view-in-github",
        "colab_type": "text"
      },
      "source": [
        "<a href=\"https://colab.research.google.com/github/vinileodido/MVP_PucRio_ML/blob/main/ML_IoT_Industrial.ipynb\" target=\"_parent\"><img src=\"https://colab.research.google.com/assets/colab-badge.svg\" alt=\"Open In Colab\"/></a>"
      ]
    },
    {
      "cell_type": "markdown",
      "source": [
        "# Análise de Manutenção Preditiva com Machine Learning\n",
        "## Dataset IoT Industrial"
      ],
      "metadata": {
        "id": "Gf5E7SpXemiQ"
      }
    },
    {
      "cell_type": "markdown",
      "source": [
        "## 1. Instalação de Pacotes Necessários"
      ],
      "metadata": {
        "id": "Wkha-Dj2esmt"
      }
    },
    {
      "cell_type": "code",
      "execution_count": null,
      "metadata": {
        "id": "Gnsn3-P0d_oG"
      },
      "outputs": [],
      "source": [
        "# Instalar pacotes necessários (executar apenas se necessário)\n",
        "import subprocess\n",
        "import sys\n",
        "\n",
        "def install_package(package):\n",
        "    subprocess.check_call([sys.executable, \"-m\", \"pip\", \"install\", package])\n",
        "\n",
        "# Lista de pacotes necessários\n",
        "required_packages = ['xgboost', 'imbalanced-learn', 'plotly']\n",
        "\n",
        "for package in required_packages:\n",
        "    try:\n",
        "        __import__(package.replace('-', '_'))\n",
        "        print(f\"✓ {package} já instalado\")\n",
        "    except ImportError:\n",
        "        print(f\"Instalando {package}...\")\n",
        "        install_package(package)\n",
        "        print(f\"✓ {package} instalado com sucesso\")"
      ]
    },
    {
      "cell_type": "markdown",
      "source": [
        "## 2. Importação das Bibliotecas"
      ],
      "metadata": {
        "id": "OZQyH7hveyl0"
      }
    },
    {
      "cell_type": "code",
      "source": [
        "# Bibliotecas básicas\n",
        "import pandas as pd\n",
        "import numpy as np\n",
        "import warnings\n",
        "warnings.filterwarnings('ignore')\n",
        "\n",
        "# Visualização\n",
        "import matplotlib.pyplot as plt\n",
        "import seaborn as sns\n",
        "\n",
        "# Plotly (com tratamento de erro)\n",
        "try:\n",
        "    import plotly.express as px\n",
        "    import plotly.graph_objects as go\n",
        "    from plotly.subplots import make_subplots\n",
        "    PLOTLY_AVAILABLE = True\n",
        "except ImportError:\n",
        "    print(\"⚠️ Plotly não disponível. Usando apenas matplotlib/seaborn\")\n",
        "    PLOTLY_AVAILABLE = False\n",
        "\n",
        "# Pré-processamento\n",
        "from sklearn.preprocessing import StandardScaler, LabelEncoder, RobustScaler\n",
        "from sklearn.model_selection import train_test_split, cross_val_score, GridSearchCV, StratifiedKFold\n",
        "from sklearn.impute import SimpleImputer\n",
        "\n",
        "# Modelos\n",
        "from sklearn.linear_model import LogisticRegression, LinearRegression, Ridge, Lasso, ElasticNet\n",
        "from sklearn.ensemble import RandomForestClassifier, RandomForestRegressor, GradientBoostingClassifier, GradientBoostingRegressor\n",
        "from sklearn.neural_network import MLPClassifier\n",
        "from sklearn.neighbors import KNeighborsRegressor\n",
        "\n",
        "# XGBoost (com tratamento de erro)\n",
        "try:\n",
        "    from xgboost import XGBClassifier, XGBRegressor\n",
        "    XGBOOST_AVAILABLE = True\n",
        "    print(\"✓ XGBoost disponível\")\n",
        "except ImportError:\n",
        "    print(\"⚠️ XGBoost não disponível. Use: pip install xgboost\")\n",
        "    XGBOOST_AVAILABLE = False\n",
        "    class XGBClassifier:\n",
        "        def __init__(self, **kwargs):\n",
        "            raise NotImplementedError(\"XGBoost não está instalado. Use: pip install xgboost\")\n",
        "    class XGBRegressor:\n",
        "        def __init__(self, **kwargs):\n",
        "            raise NotImplementedError(\"XGBoost não está instalado. Use: pip install xgboost\")\n",
        "\n",
        "# LightGBM (com tratamento de erro)\n",
        "try:\n",
        "    import lightgbm as lgb\n",
        "    from lightgbm import LGBMRegressor\n",
        "    LIGHTGBM_AVAILABLE = True\n",
        "    print(\"✓ LightGBM disponível\")\n",
        "except ImportError:\n",
        "    print(\"⚠️ LightGBM não disponível. Use: pip install lightgbm\")\n",
        "    LIGHTGBM_AVAILABLE = False\n",
        "    class LGBMRegressor:\n",
        "        def __init__(self, **kwargs):\n",
        "            raise NotImplementedError(\"LightGBM não está instalado. Use: pip install lightgbm\")\n",
        "\n",
        "# Métricas\n",
        "from sklearn.metrics import (classification_report, confusion_matrix, roc_auc_score,\n",
        "                            roc_curve, precision_recall_curve, f1_score, accuracy_score,\n",
        "                            mean_absolute_error, mean_squared_error, r2_score)\n",
        "\n",
        "# Balanceamento (com tratamento de erro)\n",
        "try:\n",
        "    from imblearn.over_sampling import SMOTE\n",
        "    from imblearn.under_sampling import RandomUnderSampler\n",
        "    from imblearn.pipeline import Pipeline as ImbPipeline\n",
        "    IMBLEARN_AVAILABLE = True\n",
        "    print(\"✓ Imbalanced-learn disponível\")\n",
        "except ImportError:\n",
        "    print(\"⚠️ Imbalanced-learn não disponível. Use: pip install imbalanced-learn\")\n",
        "    IMBLEARN_AVAILABLE = False\n",
        "\n",
        "# Configuração de visualização\n",
        "plt.style.use('seaborn-v0_8-darkgrid')\n",
        "sns.set_palette(\"husl\")\n",
        "\n",
        "print(\"\\n\" + \"=\"*60)\n",
        "print(\"BIBLIOTECAS CARREGADAS COM SUCESSO!\")\n",
        "print(\"=\"*60)"
      ],
      "metadata": {
        "id": "ydePHho3e2Gj"
      },
      "execution_count": null,
      "outputs": []
    }
  ]
}